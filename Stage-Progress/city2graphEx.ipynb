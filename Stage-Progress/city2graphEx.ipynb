{
 "cells": [
  {
   "cell_type": "markdown",
   "id": "5a5f1e6c",
   "metadata": {},
   "source": [
    "# 🚏 City2Graph + GNN Demo: Paris Street Network\n",
    "\n",
    "This notebook demonstrates how **city2graph** and **Graph Neural Networks (GNNs)** can be used to analyze urban systems. \n",
    "\n",
    "We will:\n",
    "1. Download Paris’s street network from OpenStreetMap.\n",
    "2. Convert it into a graph using `city2graph`.\n",
    "3. Build a **Graph Convolutional Network (GCN)** with PyTorch Geometric.\n",
    "4. Train the GCN to predict whether a street node is a **major intersection**.\n",
    "\n",
    "This is a **toy example** — but the workflow generalizes to tasks like flood exposure prediction, land value modelling, or multi-city comparisons."
   ]
  },
  {
   "cell_type": "code",
   "execution_count": null,
   "id": "a36bfc7e",
   "metadata": {},
   "outputs": [],
   "source": [
    "\n",
    "# !pip install city2graph osmnx geopandas networkx torch torch-geometric matplotlib"
   ]
  },
  {
   "cell_type": "code",
   "execution_count": null,
   "id": "8b3272b6",
   "metadata": {},
   "outputs": [],
   "source": [
    "import osmnx as ox\n",
    "import city2graph as c2g\n",
    "import torch\n",
    "from torch_geometric.nn import GCNConv\n",
    "from torch_geometric.data import Data\n",
    "import torch.nn.functional as F\n",
    "import matplotlib.pyplot as plt\n",
    "import numpy as np\n",
    "\n",
    "ox.settings.log_console = False  # silence osmnx logs"
   ]
  },
  {
   "cell_type": "markdown",
   "id": "f8569a7e",
   "metadata": {},
   "source": [
    "## 1. Download Paris Street Network"
   ]
  },
  {
   "cell_type": "code",
   "execution_count": null,
   "id": "96ac150e",
   "metadata": {},
   "outputs": [],
   "source": [
    "city = \"Paris, France\"\n",
    "G = ox.graph_from_place(city, network_type=\"drive\")\n",
    "nodes, edges = ox.graph_to_gdfs(G)\n",
    "\n",
    "print(nodes.shape, edges.shape)\n",
    "G"
   ]
  },
  {
   "cell_type": "markdown",
   "id": "50a95fe7",
   "metadata": {},
   "source": [
    "## 2. Convert to CityGraph (city2graph)"
   ]
  },
  {
   "cell_type": "code",
   "execution_count": null,
   "id": "2b8db8e2",
   "metadata": {},
   "outputs": [],
   "source": [
    "cgraph = c2g.CityGraph.from_geodataframes(\n",
    "    nodes, edges,\n",
    "    node_id_col=\"osmid\",\n",
    "    edge_src_col=\"u\",\n",
    "    edge_dst_col=\"v\"\n",
    ")\n",
    "\n",
    "# Convert edge index to PyTorch tensor\n",
    "edge_index = torch.tensor(list(cgraph.edge_index.values.T), dtype=torch.long)\n",
    "\n",
    "# Features: degree + coordinates\n",
    "deg = np.array([d for _, d in G.degree()])\n",
    "coords = np.stack([nodes.geometry.x.values, nodes.geometry.y.values], axis=1)\n",
    "x = torch.tensor(np.hstack([deg.reshape(-1,1), coords]), dtype=torch.float)\n",
    "\n",
    "# Labels: binary target (major intersection = degree > 3)\n",
    "y = torch.tensor((deg > 3).astype(int), dtype=torch.long)\n",
    "\n",
    "data = Data(x=x, edge_index=edge_index, y=y)\n",
    "data"
   ]
  },
  {
   "cell_type": "markdown",
   "id": "8bad2945",
   "metadata": {},
   "source": [
    "## 3. Visualize Nodes by Label (Ground Truth)"
   ]
  },
  {
   "cell_type": "code",
   "execution_count": null,
   "id": "e9fac4d6",
   "metadata": {},
   "outputs": [],
   "source": [
    "fig, ax = plt.subplots(figsize=(6,6))\n",
    "nodes.plot(ax=ax, markersize=5, color=[\"red\" if label==1 else \"blue\" for label in y.numpy()])\n",
    "ax.set_title(\"Paris intersections: red = major (>3 roads), blue = minor\")\n",
    "plt.show()"
   ]
  },
  {
   "cell_type": "markdown",
   "id": "2fde612d",
   "metadata": {},
   "source": [
    "## 4. Define a Simple Graph Convolutional Network"
   ]
  },
  {
   "cell_type": "code",
   "execution_count": null,
   "id": "f42778e2",
   "metadata": {},
   "outputs": [],
   "source": [
    "class GCN(torch.nn.Module):\n",
    "    def __init__(self, in_channels, hidden_channels, out_channels):\n",
    "        super().__init__()\n",
    "        self.conv1 = GCNConv(in_channels, hidden_channels)\n",
    "        self.conv2 = GCNConv(hidden_channels, out_channels)\n",
    "\n",
    "    def forward(self, x, edge_index):\n",
    "        x = self.conv1(x, edge_index)\n",
    "        x = F.relu(x)\n",
    "        x = self.conv2(x, edge_index)\n",
    "        return x\n",
    "\n",
    "model = GCN(in_channels=data.x.shape[1], hidden_channels=16, out_channels=2)\n",
    "optimizer = torch.optim.Adam(model.parameters(), lr=0.01)\n",
    "criterion = torch.nn.CrossEntropyLoss()"
   ]
  },
  {
   "cell_type": "markdown",
   "id": "36731dae",
   "metadata": {},
   "source": [
    "## 5. Train/Test Split and Training Loop"
   ]
  },
  {
   "cell_type": "code",
   "execution_count": null,
   "id": "619f6bf5",
   "metadata": {},
   "outputs": [],
   "source": [
    "n = data.num_nodes\n",
    "idx = torch.randperm(n)\n",
    "train_mask = idx[:int(0.8*n)]\n",
    "test_mask = idx[int(0.8*n):]\n",
    "\n",
    "for epoch in range(50):\n",
    "    model.train()\n",
    "    optimizer.zero_grad()\n",
    "    out = model(data.x, data.edge_index)\n",
    "    loss = criterion(out[train_mask], data.y[train_mask])\n",
    "    loss.backward()\n",
    "    optimizer.step()\n",
    "\n",
    "    if epoch % 10 == 0:\n",
    "        pred = out.argmax(dim=1)\n",
    "        acc = (pred[test_mask] == data.y[test_mask]).sum() / len(test_mask)\n",
    "        print(f\"Epoch {epoch}, Loss {loss.item():.4f}, Test Acc {acc:.3f}\")"
   ]
  },
  {
   "cell_type": "markdown",
   "id": "1a7e154c",
   "metadata": {},
   "source": [
    "## 6. Visualize Predictions"
   ]
  },
  {
   "cell_type": "code",
   "execution_count": null,
   "id": "088eed70",
   "metadata": {},
   "outputs": [],
   "source": [
    "model.eval()\n",
    "pred = model(data.x, data.edge_index).argmax(dim=1).detach().numpy()\n",
    "\n",
    "fig, ax = plt.subplots(figsize=(6,6))\n",
    "nodes.plot(ax=ax, markersize=5, color=[\"green\" if label==1 else \"gray\" for label in pred])\n",
    "ax.set_title(\"Predicted major intersections (green)\")\n",
    "plt.show()"
   ]
  },
  {
   "cell_type": "markdown",
   "id": "6612094e",
   "metadata": {},
   "source": [
    "## ✅ Conclusion\n",
    "\n",
    "- We built a graph representation of Paris streets with **city2graph**.\n",
    "- We trained a simple **GCN** to classify intersections as major/minor.\n",
    "- The pipeline is **generalizable to other cities and tasks** (flood risk, land value, adaptation scenarios).\n",
    "\n",
    "This demo can serve as a **proof of concept** for multi-city comparative urban modelling."
   ]
  }
 ],
 "metadata": {
  "kernelspec": {
   "display_name": "Python 3",
   "language": "python",
   "name": "python3"
  },
  "language_info": {
   "name": "python",
   "version": "3.10"
  }
 },
 "nbformat": 4,
 "nbformat_minor": 5
}
